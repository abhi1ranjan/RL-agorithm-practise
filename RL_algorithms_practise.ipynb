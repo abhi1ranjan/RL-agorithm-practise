{
  "nbformat": 4,
  "nbformat_minor": 0,
  "metadata": {
    "colab": {
      "name": "RL algorithms practise.ipynb",
      "provenance": [],
      "authorship_tag": "ABX9TyPr5cRhRyyCAWPXff60sBPB",
      "include_colab_link": true
    },
    "kernelspec": {
      "name": "python3",
      "display_name": "Python 3"
    },
    "language_info": {
      "name": "python"
    }
  },
  "cells": [
    {
      "cell_type": "markdown",
      "metadata": {
        "id": "view-in-github",
        "colab_type": "text"
      },
      "source": [
        "<a href=\"https://colab.research.google.com/github/abhi1ranjan/RL-agorithm-practise/blob/main/RL_algorithms_practise.ipynb\" target=\"_parent\"><img src=\"https://colab.research.google.com/assets/colab-badge.svg\" alt=\"Open In Colab\"/></a>"
      ]
    },
    {
      "cell_type": "markdown",
      "source": [
        "**Q-Learning implementation using gym environment**"
      ],
      "metadata": {
        "id": "X6B4Kts1HYTG"
      }
    },
    {
      "cell_type": "code",
      "execution_count": 1,
      "metadata": {
        "id": "HBRxBbNvHS51"
      },
      "outputs": [],
      "source": [
        "import gym\n",
        "import numpy as np"
      ]
    },
    {
      "cell_type": "code",
      "source": [
        "# Load the environment\n",
        "env = gym.make('FrozenLake-v0')"
      ],
      "metadata": {
        "id": "PgFjIR0dHv4t"
      },
      "execution_count": 2,
      "outputs": []
    },
    {
      "cell_type": "markdown",
      "source": [
        "Implement the Q-Learning algorithm"
      ],
      "metadata": {
        "id": "NQbHA46OIWeD"
      }
    },
    {
      "cell_type": "code",
      "source": [
        "# Initialize the table with all zeroes to maintain uniformity\n",
        "QTable = np.zeros([env.observation_space.n,env.action_space.n]) \n",
        "\n",
        "# learning parameters values\n",
        "LRate = 0.5\n",
        "discountFactor = 0.95\n",
        "totalEpisodes = 2000\n",
        "\n",
        "# Maintain lists to store the total rewards and steps per episode\n",
        "Jlist = []\n",
        "Rlist = []\n",
        "\n",
        "for itr in range(totalEpisodes):\n",
        "  #reset the environment and get the new observation\n",
        "  s = env.reset()\n",
        "  rAll = 0\n",
        "  d = False\n",
        "  j = 0     # denote steps\n",
        "\n",
        "  # The Q-learning table algorithm\n",
        "  while j<99:\n",
        "    j=+1\n",
        "    # action will be chosen in greedy manner and will picked from Q-table\n",
        "    action = np.argmax(QTable[s,:] + np.random.randn(1,env.action_space.n)*(1./(itr+1)))\n",
        "    # Fetch new state and reward from the environment\n",
        "    s1,r,d,_ = env.step(action)\n",
        "    # update Q-table using the bellman equation with the help of new information just obtained\n",
        "    QTable[s,action] = QTable[s,action] + LRate*(r + discountFactor*np.max(QTable[s1,:])-QTable[s,action])\n",
        "    rAll += r\n",
        "    s = s1\n",
        "    if d == True:\n",
        "      # print(\"hi\")\n",
        "      break\n",
        "  Jlist.append(j)\n",
        "  Rlist.append(rAll)\n"
      ],
      "metadata": {
        "id": "xZaCjjLaIFaG"
      },
      "execution_count": 3,
      "outputs": []
    },
    {
      "cell_type": "code",
      "source": [
        "Rlist"
      ],
      "metadata": {
        "id": "drkPUgCRNNzp"
      },
      "execution_count": null,
      "outputs": []
    },
    {
      "cell_type": "code",
      "source": [
        "QTable.shape"
      ],
      "metadata": {
        "id": "R5bzUN-sa-QE",
        "colab": {
          "base_uri": "https://localhost:8080/"
        },
        "outputId": "4dc82e66-f092-4d78-b462-8b8fafec4f9a"
      },
      "execution_count": 5,
      "outputs": [
        {
          "output_type": "execute_result",
          "data": {
            "text/plain": [
              "(16, 4)"
            ]
          },
          "metadata": {},
          "execution_count": 5
        }
      ]
    },
    {
      "cell_type": "code",
      "source": [
        "print(\"score over time instance: \" + str(sum(Rlist)/totalEpisodes))"
      ],
      "metadata": {
        "colab": {
          "base_uri": "https://localhost:8080/"
        },
        "id": "2yKrMwBEMlMu",
        "outputId": "628e3f60-8dc0-4ea4-e85b-4450a5d99f60"
      },
      "execution_count": 6,
      "outputs": [
        {
          "output_type": "stream",
          "name": "stdout",
          "text": [
            "score over time instance: 0.213\n"
          ]
        }
      ]
    },
    {
      "cell_type": "code",
      "source": [
        "print(\"Final Q-table values \\n\", QTable) #when score is 0.216"
      ],
      "metadata": {
        "colab": {
          "base_uri": "https://localhost:8080/"
        },
        "id": "ntyTXcBtZGLg",
        "outputId": "a9f0bed8-3866-447d-9da4-97dcda5fd09e"
      },
      "execution_count": null,
      "outputs": [
        {
          "output_type": "stream",
          "name": "stdout",
          "text": [
            "Final Q-table values \n",
            " [[3.38182689e-02 3.90756950e-03 4.02887492e-03 4.11781779e-03]\n",
            " [2.15629456e-03 2.35644754e-03 2.69104789e-03 4.34198917e-03]\n",
            " [3.72065078e-03 4.02285255e-03 0.00000000e+00 4.87726756e-03]\n",
            " [2.05264354e-03 3.08794193e-03 3.28312772e-03 6.79860988e-03]\n",
            " [4.29767935e-02 2.09511137e-03 1.90645553e-03 1.31890605e-03]\n",
            " [0.00000000e+00 0.00000000e+00 0.00000000e+00 0.00000000e+00]\n",
            " [3.25318047e-03 4.26739646e-04 0.00000000e+00 0.00000000e+00]\n",
            " [0.00000000e+00 0.00000000e+00 0.00000000e+00 0.00000000e+00]\n",
            " [0.00000000e+00 0.00000000e+00 1.65924208e-03 5.57885940e-02]\n",
            " [2.32868389e-03 7.02337085e-02 0.00000000e+00 0.00000000e+00]\n",
            " [0.00000000e+00 1.88831445e-01 0.00000000e+00 0.00000000e+00]\n",
            " [0.00000000e+00 0.00000000e+00 0.00000000e+00 0.00000000e+00]\n",
            " [0.00000000e+00 0.00000000e+00 0.00000000e+00 0.00000000e+00]\n",
            " [1.37854939e-04 2.33452984e-04 2.75709879e-04 1.72049042e-01]\n",
            " [0.00000000e+00 0.00000000e+00 0.00000000e+00 4.86453791e-01]\n",
            " [0.00000000e+00 0.00000000e+00 0.00000000e+00 0.00000000e+00]]\n"
          ]
        }
      ]
    },
    {
      "cell_type": "code",
      "source": [
        "print(\"Final Q-table values\", QTable)  # when score is 0.28"
      ],
      "metadata": {
        "colab": {
          "base_uri": "https://localhost:8080/"
        },
        "id": "AUKfWMQZNAXF",
        "outputId": "657907b9-f92c-413b-c39b-457bb24a2b45"
      },
      "execution_count": null,
      "outputs": [
        {
          "output_type": "stream",
          "name": "stdout",
          "text": [
            "Final Q-table values [[0.01746332 0.10590996 0.01547394 0.01658849]\n",
            " [0.0006966  0.00858767 0.00465219 0.06451269]\n",
            " [0.00293171 0.00481483 0.03029571 0.00265921]\n",
            " [0.         0.00129215 0.00214694 0.06509362]\n",
            " [0.13153378 0.0066275  0.00434676 0.01517411]\n",
            " [0.         0.         0.         0.        ]\n",
            " [0.         0.03302458 0.00209638 0.0011909 ]\n",
            " [0.         0.         0.         0.        ]\n",
            " [0.01080973 0.0063861  0.00203285 0.16350595]\n",
            " [0.00835711 0.16594574 0.0099972  0.        ]\n",
            " [0.11156529 0.00128714 0.         0.        ]\n",
            " [0.         0.         0.         0.        ]\n",
            " [0.         0.         0.         0.        ]\n",
            " [0.0010198  0.         0.         0.08728638]\n",
            " [0.         0.48049488 0.         0.        ]\n",
            " [0.         0.         0.         0.        ]]\n"
          ]
        }
      ]
    },
    {
      "cell_type": "markdown",
      "source": [
        "**Tensorflow implementation of simple Q-Network learning**"
      ],
      "metadata": {
        "id": "D6uPI-lBx17a"
      }
    },
    {
      "cell_type": "code",
      "source": [
        "import gym\n",
        "import numpy as np\n",
        "import random\n",
        "import tensorflow.compat.v1 as tf\n",
        "import matplotlib.pyplot as plt\n",
        "%matplotlib inline"
      ],
      "metadata": {
        "id": "jhbDm3kXNoOQ"
      },
      "execution_count": 7,
      "outputs": []
    },
    {
      "cell_type": "code",
      "source": [
        "# Load the environment\n",
        "\n",
        "env = gym.make('FrozenLake-v0')"
      ],
      "metadata": {
        "id": "dZSks0Gyye8y"
      },
      "execution_count": 8,
      "outputs": []
    },
    {
      "cell_type": "markdown",
      "source": [
        "implementing the network itself"
      ],
      "metadata": {
        "id": "urwaWksuyue2"
      }
    },
    {
      "cell_type": "code",
      "source": [
        "# tf.reset_default_graph()\n",
        "tf.compat.v1.reset_default_graph()"
      ],
      "metadata": {
        "id": "tffCuC6Gyo5B"
      },
      "execution_count": 9,
      "outputs": []
    },
    {
      "cell_type": "code",
      "source": [
        "# establishing the feed-forward part of the network used to choose actions\n",
        "\n",
        "# tf.disable_v2_behavior()\n",
        "tf.compat.v1.disable_eager_execution()\n",
        "inputs1 = tf.compat.v1.placeholder(shape = [1,16],dtype = tf.float32)\n",
        "W = tf.Variable(tf.random.uniform([16,4],0,0.01))\n",
        "QOutput = tf.matmul(inputs1,W)\n",
        "predict = tf.argmax(QOutput,1)"
      ],
      "metadata": {
        "id": "0NsafnIfy9Gh"
      },
      "execution_count": 10,
      "outputs": []
    },
    {
      "cell_type": "code",
      "source": [
        "# Find the loss using the loss function which is sum of square difference between the target and predicted Q values\n",
        "\n",
        "NextQ = tf.compat.v1.placeholder(shape = [1,4], dtype = tf.float32)\n",
        "loss = tf.reduce_sum(tf.square(NextQ - QOutput))\n",
        "lossSm = tf.summary.scalar(\"loss\", loss) # scalar summary for tensorboard\n",
        "# trainer = tf.optimizers.SGD(learning_rate = 0.2)\n",
        "trainer = tf.train.GradientDescentOptimizer(learning_rate = 0.2)\n",
        "# tf.disable_v2_behavior()\n",
        "updateModel = trainer.minimize(loss)"
      ],
      "metadata": {
        "id": "_tCdlDTQ0DeR"
      },
      "execution_count": 17,
      "outputs": []
    },
    {
      "cell_type": "markdown",
      "source": [
        "Training the network"
      ],
      "metadata": {
        "id": "Ow0N0ZciA0Ft"
      }
    },
    {
      "cell_type": "code",
      "source": [
        "init = tf.initialize_all_variables()\n",
        "\n",
        "# set learning parameters\n",
        "\n",
        "yGamma = 0.99\n",
        "e = 0.1\n",
        "numOfEpisodes = 2000\n",
        "\n",
        "# creating lists to store the total rewards and steps per episode\n",
        "\n",
        "jList = []\n",
        "rList = []\n",
        "\n",
        "with tf.Session() as sess:\n",
        "  writer = tf.summary.FileWriter(\"log\", sess.graph)\n",
        "  sess.run(init)\n",
        "  for itr in range(numOfEpisodes):\n",
        "    # Reset environment and get new observation\n",
        "    s = env.reset()\n",
        "    rTotal = 0\n",
        "    d = False      # denote whether goal has been reached or not\n",
        "    j = 0\n",
        "\n",
        "    # Q-network\n",
        "    while j<99:\n",
        "      j += 1\n",
        "      # choose an action in greedy manner (with e chance of random action selection) for the Q-network -> making it as an epsilon-greedy method\n",
        "      a,allQ = sess.run([predict,QOutput],feed_dict = {inputs1:np.identity(16)[s:s+1]})\n",
        "      if np.random.rand(1) < e:\n",
        "        a[0] = env.action_space.sample()\n",
        "      \n",
        "      # Get new state and reward from environment\n",
        "      sNew,rNew,d,_ = env.step(a[0])\n",
        "      # obtain the Q valuew by feeding the new state through our network\n",
        "      QNew = sess.run(QOutput, feed_dict = {inputs1:np.identity(16)[sNew:sNew+1]})\n",
        "      # find the maximum Q-value and set our target value for the chosen action\n",
        "      maxQNew = np.max(QNew)\n",
        "      targetQ = allQ\n",
        "      targetQ[0,a[0]] = rNew + yGamma*maxQNew\n",
        "      #train the network using target and predicted Q-value and here The W1 is not used, but left for visualization purposes\n",
        "      Lo,_,wNew = sess.run([lossSm,updateModel,W],feed_dict = {inputs1:np.identity(16)[s:s+1],NextQ:targetQ}) \n",
        "      rTotal += rNew\n",
        "      s = sNew\n",
        "      if d == True:\n",
        "        # Reduce chance of random action as we train the model\n",
        "         e = 1./((itr/50) +10)\n",
        "         break\n",
        "    jList.append(j)\n",
        "    rList.append(rTotal)\n",
        "print(\"Precent of successful episodes:\" + str(sum(rList)/numOfEpisodes) + \"%\")\n"
      ],
      "metadata": {
        "id": "iE4S7O9u5DI0",
        "colab": {
          "base_uri": "https://localhost:8080/"
        },
        "outputId": "082985de-4af8-4a2b-c06c-1c14f684bf72"
      },
      "execution_count": 19,
      "outputs": [
        {
          "output_type": "stream",
          "name": "stdout",
          "text": [
            "Precent of successful episodes:0.4335%\n"
          ]
        }
      ]
    },
    {
      "cell_type": "code",
      "source": [
        "targetQ"
      ],
      "metadata": {
        "colab": {
          "base_uri": "https://localhost:8080/"
        },
        "id": "_v9UfSWmu2gn",
        "outputId": "e2b324b8-5fc7-4988-ba40-1c413990f1d8"
      },
      "execution_count": 37,
      "outputs": [
        {
          "output_type": "execute_result",
          "data": {
            "text/plain": [
              "array([[0.5970079 , 0.6472249 , 0.60459685, 1.0072309 ]], dtype=float32)"
            ]
          },
          "metadata": {},
          "execution_count": 37
        }
      ]
    },
    {
      "cell_type": "code",
      "source": [
        "QNew"
      ],
      "metadata": {
        "colab": {
          "base_uri": "https://localhost:8080/"
        },
        "id": "NACstityvNUa",
        "outputId": "d1eb1fef-a4cb-4ede-fa97-67dccfb2bf02"
      },
      "execution_count": 40,
      "outputs": [
        {
          "output_type": "execute_result",
          "data": {
            "text/plain": [
              "array([[0.00123535, 0.00275389, 0.0005066 , 0.00730386]], dtype=float32)"
            ]
          },
          "metadata": {},
          "execution_count": 40
        }
      ]
    },
    {
      "cell_type": "code",
      "source": [
        "print(\"Weight Matrix:- \\n\",wNew)"
      ],
      "metadata": {
        "colab": {
          "base_uri": "https://localhost:8080/"
        },
        "id": "YCB3Yh7sunbh",
        "outputId": "22f33741-4a36-486b-f4f2-2b64080a6134"
      },
      "execution_count": 31,
      "outputs": [
        {
          "output_type": "stream",
          "name": "stdout",
          "text": [
            "Weight Matrix:- \n",
            " [[4.3546045e-01 4.2358685e-01 4.2883241e-01 4.1662788e-01]\n",
            " [3.4085956e-01 8.2407236e-02 3.6030829e-01 4.4766659e-01]\n",
            " [2.8801608e-01 2.3454209e-01 2.5129345e-01 3.9640316e-01]\n",
            " [1.3169068e-01 2.1876067e-01 2.0950826e-01 3.6660385e-01]\n",
            " [4.3569061e-01 2.3707007e-01 4.2566764e-01 4.0415201e-01]\n",
            " [5.6184372e-03 2.2728718e-03 2.5395476e-03 1.8989742e-03]\n",
            " [2.1172638e-01 1.4374249e-02 3.0656487e-02 1.1399869e-02]\n",
            " [9.1741951e-03 7.6095057e-03 1.5281236e-03 2.5195181e-03]\n",
            " [3.4572014e-01 3.2960898e-01 3.7174752e-01 4.5029631e-01]\n",
            " [1.7634083e-01 5.2278352e-01 3.2283792e-01 2.3595579e-01]\n",
            " [1.4829499e-01 7.0518351e-01 2.2932558e-01 1.3810708e-01]\n",
            " [5.8152196e-03 2.2002077e-03 8.2593048e-03 8.4465099e-03]\n",
            " [5.0538359e-03 5.1122797e-03 2.2528695e-03 7.6915324e-03]\n",
            " [2.2941500e-01 4.2120638e-01 5.0163156e-01 1.2873845e-01]\n",
            " [5.9700787e-01 6.4722490e-01 6.0459685e-01 8.8332760e-01]\n",
            " [1.2353479e-03 2.7538906e-03 5.0659536e-04 7.3038647e-03]]\n"
          ]
        }
      ]
    },
    {
      "cell_type": "markdown",
      "source": [
        "Statistical analysis of Network performance"
      ],
      "metadata": {
        "id": "axfBpEM2gXNG"
      }
    },
    {
      "cell_type": "code",
      "source": [
        "plt.plot(wNew)"
      ],
      "metadata": {
        "colab": {
          "base_uri": "https://localhost:8080/",
          "height": 334
        },
        "id": "kdBaI8EfmDLh",
        "outputId": "0598cfc3-4c97-4270-ea34-99946223f795"
      },
      "execution_count": 29,
      "outputs": [
        {
          "output_type": "execute_result",
          "data": {
            "text/plain": [
              "[<matplotlib.lines.Line2D at 0x7f00ff66a410>,\n",
              " <matplotlib.lines.Line2D at 0x7f00fe671790>,\n",
              " <matplotlib.lines.Line2D at 0x7f00fe671bd0>,\n",
              " <matplotlib.lines.Line2D at 0x7f00fe671950>]"
            ]
          },
          "metadata": {},
          "execution_count": 29
        },
        {
          "output_type": "display_data",
          "data": {
            "image/png": "[encoded data removed]",
            "text/plain": [
              "<Figure size 432x288 with 1 Axes>"
            ]
          },
          "metadata": {
            "needs_background": "light"
          }
        }
      ]
    },
    {
      "cell_type": "code",
      "source": [
        "plt.plot(rList)"
      ],
      "metadata": {
        "colab": {
          "base_uri": "https://localhost:8080/",
          "height": 282
        },
        "id": "Vc8v_Mt3Yp-m",
        "outputId": "6adc7e78-161e-4c82-c637-0ddbf8ec1e4c"
      },
      "execution_count": 20,
      "outputs": [
        {
          "output_type": "execute_result",
          "data": {
            "text/plain": [
              "[<matplotlib.lines.Line2D at 0x7f00fe712750>]"
            ]
          },
          "metadata": {},
          "execution_count": 20
        },
        {
          "output_type": "display_data",
          "data": {
            "image/png": "[encoded data removed]",
            "text/plain": [
              "<Figure size 432x288 with 1 Axes>"
            ]
          },
          "metadata": {
            "needs_background": "light"
          }
        }
      ]
    },
    {
      "cell_type": "markdown",
      "source": [
        "We can see that the network beings to consistly reach the goal around the 350 episode mark.\n",
        "It also begins to progress through the environment for longer than chance constraint after 350 episodes are completed."
      ],
      "metadata": {
        "id": "b57G_H8Hgx4R"
      }
    },
    {
      "cell_type": "code",
      "source": [
        "plt.plot(jList)"
      ],
      "metadata": {
        "colab": {
          "base_uri": "https://localhost:8080/",
          "height": 282
        },
        "id": "7B8ASm-3gkQd",
        "outputId": "dd98b2c4-63a6-427e-c8b0-b83e66fb0d33"
      },
      "execution_count": 16,
      "outputs": [
        {
          "output_type": "execute_result",
          "data": {
            "text/plain": [
              "[<matplotlib.lines.Line2D at 0x7f00ff4cd690>]"
            ]
          },
          "metadata": {},
          "execution_count": 16
        },
        {
          "output_type": "display_data",
          "data": {
            "image/png": "[encoded data removed]",
            "text/plain": [
              "<Figure size 432x288 with 1 Axes>"
            ]
          },
          "metadata": {
            "needs_background": "light"
          }
        }
      ]
    },
    {
      "cell_type": "markdown",
      "source": [
        "**Implementing Monte Carlo policy Gradient algorithm**"
      ],
      "metadata": {
        "id": "arCqY4UltnvU"
      }
    },
    {
      "cell_type": "code",
      "source": [
        ""
      ],
      "metadata": {
        "id": "Bp8kT4WVhP7t"
      },
      "execution_count": null,
      "outputs": []
    }
  ]
}